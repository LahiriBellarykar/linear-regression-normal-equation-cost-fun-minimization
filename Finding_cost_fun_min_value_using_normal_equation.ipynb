{
 "cells": [
  {
   "cell_type": "code",
   "execution_count": 19,
   "metadata": {},
   "outputs": [],
   "source": [
    "#This piece of code illustrates how to calculate minimum value of cost function in case of linear\n",
    "#regression using normal equation\n",
    "#################Scenario setup################\n",
    "#\n",
    "#For the sake of this demonstration the hypothesis function is\n",
    "#\n",
    "#h(theta) = theta0*feature0 + theta1*feature1 + theta2*feature2 + theta3*feature3 + theta4*feature4\n",
    "#\n",
    "#minimize_cost_function() uses normal equation to yeild such values for theta0.....theta4\n",
    "#that minimize cost function."
   ]
  },
  {
   "cell_type": "code",
   "execution_count": 22,
   "metadata": {},
   "outputs": [],
   "source": [
    "import numpy as nmp\n",
    "def minimize_cost_function(matrix_of_features, matrix_of_given_output):\n",
    "    feature_matrix_transpose = matrix_of_features.getT()\n",
    "    #normal equation to calculate fitting values that minimize cost function is as follows\n",
    "    matrix_of_fitting_hypothesis = ((feature_matrix_transpose*matrix_of_features).getI())*(feature_matrix_transpose*matrix_of_given_output)\n",
    "    return matrix_of_fitting_hypothesis\n",
    "    "
   ]
  },
  {
   "cell_type": "code",
   "execution_count": 55,
   "metadata": {},
   "outputs": [],
   "source": [
    "def beautify_hypothesis_function(feature_array,fitting_values):\n",
    "    counter = 0\n",
    "    hypothesis='h(theta) = '\n",
    "    number_of_features = len(feature_array)\n",
    "    for feature_name in feature_array:\n",
    "        hypothesis_terms = str(fitting_values.item(counter))+' * '+feature_name\n",
    "        if counter == number_of_features-1:\n",
    "             hypothesis+=hypothesis_terms\n",
    "        else:\n",
    "            hypothesis+=hypothesis_terms+' + '\n",
    "        counter+= 1\n",
    "    return hypothesis"
   ]
  },
  {
   "cell_type": "code",
   "execution_count": 57,
   "metadata": {},
   "outputs": [
    {
     "name": "stdout",
     "output_type": "stream",
     "text": [
      "h(theta) = -2048.0 * feature0 + -8.0 * feature1 + 0.0 * feature2 + 2048.0 * feature3 + -128.0 * feature4\n"
     ]
    }
   ],
   "source": [
    "feature_matrix = nmp.matrix('1 2104 5 1 45; 1 1416 3 2 40;1 1534 3 2 30;1 852 2 1 36')\n",
    "observed_output = nmp.matrix('460;232;315;178')\n",
    "#Here we derive most fitting values \n",
    "fitting_values = minimize_cost_function(feature_matrix, observed_output)\n",
    "\n",
    "#following is done only to beautify output\n",
    "feature_array = ['feature0','feature1','feature2','feature3','feature4']\n",
    "hypothesis = beautify_hypothesis_function(feature_array, fitting_values)\n",
    "print hypothesis"
   ]
  },
  {
   "cell_type": "code",
   "execution_count": null,
   "metadata": {},
   "outputs": [],
   "source": []
  }
 ],
 "metadata": {
  "kernelspec": {
   "display_name": "Python 2",
   "language": "python",
   "name": "python2"
  },
  "language_info": {
   "codemirror_mode": {
    "name": "ipython",
    "version": 2
   },
   "file_extension": ".py",
   "mimetype": "text/x-python",
   "name": "python",
   "nbconvert_exporter": "python",
   "pygments_lexer": "ipython2",
   "version": "2.7.15"
  }
 },
 "nbformat": 4,
 "nbformat_minor": 2
}
